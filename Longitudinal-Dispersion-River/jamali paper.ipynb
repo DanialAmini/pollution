{
 "cells": [
  {
   "cell_type": "code",
   "execution_count": 93,
   "id": "aa880004",
   "metadata": {},
   "outputs": [],
   "source": [
    "%reset -f"
   ]
  },
  {
   "cell_type": "code",
   "execution_count": 94,
   "id": "5757ed7d",
   "metadata": {},
   "outputs": [],
   "source": [
    "import numpy as np\n",
    "import matplotlib.pyplot as plt"
   ]
  },
  {
   "cell_type": "code",
   "execution_count": 95,
   "id": "026bd6d3",
   "metadata": {},
   "outputs": [],
   "source": [
    "Q0=10\n",
    "V0=114\n",
    "L=1.22e4*np.power(Q0,0.577)\n",
    "w0=8.04*np.power(Q0,0.456)\n",
    "d0=0.244*np.power(Q0,0.417)\n",
    "u0=0.510*np.power(Q0,0.127)\n",
    "K0=2.0*np.power(w0/d0,1.5)*d0*u0\n",
    "A0=w0*d0"
   ]
  },
  {
   "cell_type": "code",
   "execution_count": 96,
   "id": "aac25c51",
   "metadata": {},
   "outputs": [
    {
     "name": "stdout",
     "output_type": "stream",
     "text": [
      "Q0= 10\n",
      "L= 46063.80729290075\n",
      "w0= 22.97502796873457\n",
      "d0= 0.6373673704734063\n",
      "u0= 0.683235110587227\n",
      "A0= 14.643533162985317\n",
      "K0= 188.4904415143863\n"
     ]
    }
   ],
   "source": [
    "print('Q0=',Q0)\n",
    "print('L=',L)\n",
    "print('w0=',w0)\n",
    "print('d0=',d0)\n",
    "print('u0=',u0)\n",
    "print('A0=',A0)\n",
    "print('K0=',K0)\n"
   ]
  },
  {
   "cell_type": "code",
   "execution_count": 97,
   "id": "4322f8ce",
   "metadata": {},
   "outputs": [],
   "source": [
    "def func_w(x):\n",
    "    return w0*np.power(1+x/L,0.79)\n",
    "def func_d(x):\n",
    "    return d0*np.power(1+x/L,0.72)\n",
    "def func_u(x):\n",
    "    return u0*np.power(1+x/L,0.22)"
   ]
  },
  {
   "cell_type": "code",
   "execution_count": 98,
   "id": "97ef9f82",
   "metadata": {},
   "outputs": [],
   "source": [
    "dx=50\n",
    "dt=50\n",
    "LL=100000\n",
    "Nx=np.int(LL/dx+1)"
   ]
  },
  {
   "cell_type": "code",
   "execution_count": 99,
   "id": "3dad66f4",
   "metadata": {},
   "outputs": [],
   "source": [
    "x=np.arange(0,LL+dx,dx)\n",
    "w=func_w(x)\n",
    "d=func_d(x)\n",
    "u=func_u(x)\n",
    "Q=w*d*u\n",
    "#ustart as a function of ?\n",
    "K=2.0*np.power(w/d,1.5)*d*u"
   ]
  },
  {
   "cell_type": "code",
   "execution_count": 100,
   "id": "3226ab97",
   "metadata": {},
   "outputs": [
    {
     "data": {
      "text/plain": [
       "[<matplotlib.lines.Line2D at 0x2755485ffd0>]"
      ]
     },
     "execution_count": 100,
     "metadata": {},
     "output_type": "execute_result"
    },
    {
     "data": {
      "image/png": "[encoded data removed]",
      "text/plain": [
       "<Figure size 432x288 with 1 Axes>"
      ]
     },
     "metadata": {
      "needs_background": "light"
     },
     "output_type": "display_data"
    }
   ],
   "source": [
    "plt.plot(x,K)"
   ]
  },
  {
   "cell_type": "code",
   "execution_count": 101,
   "id": "50018212",
   "metadata": {},
   "outputs": [],
   "source": [
    "C=np.zeros(Nx)"
   ]
  },
  {
   "cell_type": "code",
   "execution_count": 102,
   "id": "a5bafb6f",
   "metadata": {},
   "outputs": [],
   "source": [
    "C[0]=V0/A0"
   ]
  },
  {
   "cell_type": "code",
   "execution_count": 103,
   "id": "20a4576e",
   "metadata": {},
   "outputs": [],
   "source": [
    "ux=u\n",
    "ux[0]=(ux[1]-ux[0])/dx\n",
    "for i in range(1,Nx):\n",
    "    ux[i]=(u[i]-u[i-1])/dx"
   ]
  },
  {
   "cell_type": "code",
   "execution_count": 104,
   "id": "ea33474a",
   "metadata": {},
   "outputs": [
    {
     "data": {
      "text/plain": [
       "[<matplotlib.lines.Line2D at 0x27554716760>]"
      ]
     },
     "execution_count": 104,
     "metadata": {},
     "output_type": "execute_result"
    },
    {
     "data": {
      "image/png": "[encoded data removed]",
      "text/plain": [
       "<Figure size 432x288 with 1 Axes>"
      ]
     },
     "metadata": {
      "needs_background": "light"
     },
     "output_type": "display_data"
    }
   ],
   "source": []
  },
  {
   "cell_type": "code",
   "execution_count": null,
   "id": "d97db13c",
   "metadata": {},
   "outputs": [],
   "source": [
    "#d/dt(AC)+d/dx(uAC)=d/dx(KA d/dx(C))\n",
    "#non varying river\n",
    "#A dC/dt + uA dC/dx = KA d^2C/dx^2"
   ]
  }
 ],
 "metadata": {
  "kernelspec": {
   "display_name": "Python 3 (ipykernel)",
   "language": "python",
   "name": "python3"
  },
  "language_info": {
   "codemirror_mode": {
    "name": "ipython",
    "version": 3
   },
   "file_extension": ".py",
   "mimetype": "text/x-python",
   "name": "python",
   "nbconvert_exporter": "python",
   "pygments_lexer": "ipython3",
   "version": "3.8.6"
  }
 },
 "nbformat": 4,
 "nbformat_minor": 5
}
