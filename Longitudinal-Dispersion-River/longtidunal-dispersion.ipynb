{
 "cells": [
  {
   "cell_type": "code",
   "execution_count": 39,
   "id": "99b03b4c",
   "metadata": {},
   "outputs": [],
   "source": [
    "%reset -f\n",
    "import numpy as np\n",
    "import matplotlib.pyplot as plt"
   ]
  },
  {
   "cell_type": "code",
   "execution_count": 60,
   "id": "fa9f2728",
   "metadata": {},
   "outputs": [],
   "source": [
    "#format B,H,U,u*,Kx\n",
    "db_tayfur_singh_2005=np.array([[12.8,0.3,0.42,0.057,17.5],[24.1,0.98,0.59,0.098,101.5],\n",
    "[11.9,0.66,0.43,0.085,20.9],[21,0.48,0.62,0.069,25.9],[48.7,0.55,0.26,0.052,37.8],\n",
    "[93,0.71,0.16,0.046,41.4],[51.2,0.65,0.62,0.044,29.6],[97.5,1.15,0.32,0.058,119.8],[40.5,0.41,0.23,0.04,66.5],\n",
    "[42.2,0.69,0.23,0.064,40.8],[49.7,0.41,0.15,0.081,29.3],[43,1.13,0.63,0.081,53.3],[75.6,1.95,0.74,0.138,88.9],\n",
    "[91.9,2.44,0.52,0.094,166.9],[32,0.5,0.24,0.038,52.2],[14.5,0.31,0.25,0.062,1.9],[13.7,0.85,1.29,0.553,2.9],\n",
    "[15.9,0.22,0.39,0.053,7.1],[17.5,0.45,0.32,0.024,5.8],[25.9,0.94,0.34,0.067,32.5],[36.6,0.91,0.4,0.067,39.5],\n",
    "[15.7,0.23,0.36,0.039,69],[33.4,1.4,0.2,0.031,54.7],[15,0.59,0.27,0.08,10.3],[31.4,0.81,0.48,0.072,45.1],\n",
    "[29.9,0.4,0.34,0.02,44],[253.6,1.62,0.61,0.032,143.8],[161.5,3.96,0.29,0.06,130.5],[152.4,3.66,0.45,0.057,227.6],\n",
    "[155.1,1.74,0.47,0.036,177.7],[116.4,1.65,0.58,0.054,131.3],[160.3,2.32,1.06,0.054,308.9],[14.2,0.5,0.13,0.037,12.8],\n",
    "[12.2,0.51,0.23,0.03,14.7],[21.3,0.93,0.36,0.035,24.2],[711.2,19.94,0.56,0.041,237.2],[533.4,4.94,1.05,0.069,457.7],\n",
    "[537.4,8.9,1.51,0.097,374.1],[44.2,1.37,0.99,0.142,184.6],[85.3,2.38,1.74,0.153,464.6],[59.4,1.1,0.88,0.119,41.8],\n",
    "[68.6,2.16,1.55,0.168,162.6],[16.7,0.49,0.2,0.08,16.8],[48.5,1.16,0.21,0.069,14.8],[28.7,0.61,0.35,0.069,10.7],\n",
    "[57.9,2.45,0.75,0.104,40.5],[53.2,2.41,0.66,0.107,36.9],[18.3,0.38,0.15,0.116,20.7],[16.8,0.47,0.24,0.08,24.6],\n",
    "[36.8,0.87,0.13,0.054,15.5],[19.6,0.84,0.49,0.101,20.8],[64,0.76,0.67,0.268,34.8],[25,0.58,1.01,0.14,13.9],\n",
    "[34.1,2.47,0.82,0.18,65],[70.1,2.35,0.43,0.101,111.5],[71.6,3.84,0.76,0.128,260.1],[80,2.74,0.034,0.0024,22.3],\n",
    "[80,2.74,0.14,0.0097,34.9],[37,0.81,0.29,0.07,23.2],[42,0.8,0.42,0.069,30.2],[67,0.59,0.35,0.044,30.2],\n",
    "[86,2.93,1.2,0.53,153],[203,1.35,0.39,0.065,92.9],[20,0.42,0.29,0.045,13.9],[13,0.81,0.37,0.081,13.9],\n",
    "[20,1.2,0.45,0.099,32.5],[13,0.26,0.31,0.044,7],[16,0.43,0.37,0.056,13.9],[183,2.33,0.89,0.066,465],\n",
    "[201,3.56,1.28,0.084,837],[197,3.11,1.53,0.078,892]])\n",
    "\n",
    "db_toprak_cigizoglu_2008=np.array([])\n",
    "db_disley_others_2015=np.array([])\n",
    "db_deng_2001_2002=np.array([])\n",
    "db_kashani_falconer_2002=np.array([])\n",
    "db_sahin_2014=np.array([])\n",
    "db_etamadshahidi_taghipour_2012=np.array([])\n",
    "db_zeng_huai_2014=np.array([])\n",
    "db_koussis_rodriguez_mirasol_1998=np.array([])\n",
    "db_Alizade_others_2017_improvement=np.array([])\n",
    "db_carr_rehmann_2007=np.array([])\n"
   ]
  },
  {
   "cell_type": "code",
   "execution_count": 46,
   "id": "5c964bf8",
   "metadata": {},
   "outputs": [],
   "source": [
    "data=db_tayfur_singh_2005\n",
    "b,h,u,us,kx=data[:,0],data[:,1],data[:,2],data[:,3],data[:,4]"
   ]
  },
  {
   "cell_type": "code",
   "execution_count": 57,
   "id": "a4b6abfd",
   "metadata": {},
   "outputs": [
    {
     "data": {
      "text/plain": [
       "<matplotlib.collections.PathCollection at 0x20d7b742d30>"
      ]
     },
     "execution_count": 57,
     "metadata": {},
     "output_type": "execute_result"
    },
    {
     "data": {
      "image/png": "[encoded data removed]",
      "text/plain": [
       "<Figure size 432x288 with 1 Axes>"
      ]
     },
     "metadata": {
      "needs_background": "light"
     },
     "output_type": "display_data"
    }
   ],
   "source": [
    "d1=0.11*b**2/h*u**2/us\n",
    "plt.scatter(np.log(d1),np.log(kx))"
   ]
  },
  {
   "cell_type": "code",
   "execution_count": 58,
   "id": "9c4f5d08",
   "metadata": {},
   "outputs": [
    {
     "data": {
      "text/plain": [
       "<matplotlib.collections.PathCollection at 0x20d7b78bf70>"
      ]
     },
     "execution_count": 58,
     "metadata": {},
     "output_type": "execute_result"
    },
    {
     "data": {
      "image/png": "[encoded data removed]",
      "text/plain": [
       "<Figure size 432x288 with 1 Axes>"
      ]
     },
     "metadata": {
      "needs_background": "light"
     },
     "output_type": "display_data"
    }
   ],
   "source": [
    "beta=0.18*(us/u)*np.sqrt(us/u)\n",
    "d2=beta*0.011*u*u*b*b/h/us\n",
    "plt.scatter(np.log(d2),np.log(kx))"
   ]
  },
  {
   "cell_type": "code",
   "execution_count": 59,
   "id": "f56dc8c8",
   "metadata": {},
   "outputs": [
    {
     "data": {
      "text/plain": [
       "<matplotlib.collections.PathCollection at 0x20d7b7a6fa0>"
      ]
     },
     "execution_count": 59,
     "metadata": {},
     "output_type": "execute_result"
    },
    {
     "data": {
      "image/png": "[encoded data removed]",
      "text/plain": [
       "<Figure size 432x288 with 1 Axes>"
      ]
     },
     "metadata": {
      "needs_background": "light"
     },
     "output_type": "display_data"
    }
   ],
   "source": [
    "beta=48*(u/us)**0.47\n",
    "Rh=b*h/(b+2*h)\n",
    "d3=beta*Rh*u\n",
    "plt.scatter(np.log(d3),np.log(kx))"
   ]
  },
  {
   "cell_type": "code",
   "execution_count": null,
   "id": "f8785559",
   "metadata": {},
   "outputs": [],
   "source": []
  },
  {
   "cell_type": "code",
   "execution_count": null,
   "id": "4afdeff4",
   "metadata": {},
   "outputs": [],
   "source": []
  },
  {
   "cell_type": "code",
   "execution_count": null,
   "id": "1422c81e",
   "metadata": {},
   "outputs": [],
   "source": []
  }
 ],
 "metadata": {
  "kernelspec": {
   "display_name": "Python 3 (ipykernel)",
   "language": "python",
   "name": "python3"
  },
  "language_info": {
   "codemirror_mode": {
    "name": "ipython",
    "version": 3
   },
   "file_extension": ".py",
   "mimetype": "text/x-python",
   "name": "python",
   "nbconvert_exporter": "python",
   "pygments_lexer": "ipython3",
   "version": "3.8.6"
  }
 },
 "nbformat": 4,
 "nbformat_minor": 5
}
