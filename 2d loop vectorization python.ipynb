{
 "cells": [
  {
   "cell_type": "code",
   "execution_count": 118,
   "id": "774c0bc4",
   "metadata": {},
   "outputs": [
    {
     "name": "stdout",
     "output_type": "stream",
     "text": [
      "Jacobi solver for Laplace Equation:  20 x 20\n",
      "loop time= 0.20920580001256894\n",
      "vector1 time= 0.014800100005231798\n"
     ]
    }
   ],
   "source": [
    "%reset -f\n",
    "\n",
    "# Numerical solution of the Laplace's equation. u_xx+u_yy=0\n",
    "# Fourth-order compact Scheme Jacobi's iteration\n",
    "#source https://github.com/JulesKouatchou/basic_language_comparison/blob/master/Python/test_laplace_jacobi_4.py\n",
    "\n",
    "import numpy as np\n",
    "import sys\n",
    "\n",
    "from time import perf_counter\n",
    "\n",
    "def loop_time_step(u):\n",
    "    n, m = u.shape\n",
    "    error = 0.0\n",
    "    for i in range(1, n-1):\n",
    "        for j in range(1, m-1):\n",
    "            temp = u[i, j]\n",
    "            u[i,j]=((u[i-1,j]+u[i+1,j]+u[i,j-1]+u[i,j+1])*4.0+u[i-1,j-1]+u[i-1,j+1]+u[i+1,j-1]+u[i+1,j+1])/20.0\n",
    "            difference = u[i, j] - temp\n",
    "            error += difference*difference\n",
    "    return u, np.sqrt(error)\n",
    "\n",
    "def vector1_time_step(u):\n",
    "    u_old = u.copy()\n",
    "    u[1:-1,1:-1]=((u[0:-2,1:-1]+u[2:,1:-1]+u[1:-1,0:-2]+u[1:-1,2:])*4.0+u[0:-2,0:-2]+u[0:-2,2:]+u[2:,0:-2]+u[2:,2:])/20.0\n",
    "    return u, np.linalg.norm(u-u_old)\n",
    "\n",
    "#you offset the matrices & add them together! simple as that!!!!\n",
    "\n",
    "def vector2_time_step(u):\n",
    "    u_old = u.copy()\n",
    "    ii=np.arange(1,N-1)\n",
    "    jj=np.arange(1,N-1)\n",
    "    u[ii,jj]=((u[ii-1,jj]+u[ii+1,jj]+u[ii,jj-1]+u[ii,jj+1])*4+u[ii-1,jj-1]+u[ii-1,jj+1]+u[ii+1,jj-1]+u[ii+1,jj+1])/20\n",
    "    return u, np.linalg.norm(u-u_old)\n",
    "\n",
    "def vectorized_solver(n,type_):\n",
    "    j = complex(0, 1);     pi_c = np.pi\n",
    "    u = np.zeros((n, n), dtype=float) #  initial condition\n",
    "    x = np.r_[0.0:pi_c:n*j] # boundary condition\n",
    "    u[0, :] = np.sin(x); u[n-1, :] = np.sin(x)*np.exp(-pi_c)\n",
    "    iteration = 0;     error = 2\n",
    "    while(iteration < 100000 and error > 1e-6):\n",
    "        if type_==1:  (u, error) = loop_time_step(u) \n",
    "        elif type_==2: (u, error) = vector1_time_step(u)\n",
    "        iteration += 1\n",
    "    return (u, error, iteration)\n",
    "\n",
    "N = 20\n",
    "\n",
    "print(\"Jacobi solver for Laplace Equation: \", N,\"x\",N)\n",
    "t = perf_counter();    (u, error, iteration) = vectorized_solver(N,1) ;print(\"loop time=\", perf_counter()- t); u_loop=u\n",
    "t = perf_counter();    (u, error, iteration) = vectorized_solver(N,2) ;print(\"vector1 time=\", perf_counter()- t); u_vec1=u\n"
   ]
  },
  {
   "cell_type": "code",
   "execution_count": null,
   "id": "fb13aaca",
   "metadata": {},
   "outputs": [],
   "source": []
  }
 ],
 "metadata": {
  "kernelspec": {
   "display_name": "Python 3 (ipykernel)",
   "language": "python",
   "name": "python3"
  },
  "language_info": {
   "codemirror_mode": {
    "name": "ipython",
    "version": 3
   },
   "file_extension": ".py",
   "mimetype": "text/x-python",
   "name": "python",
   "nbconvert_exporter": "python",
   "pygments_lexer": "ipython3",
   "version": "3.10.2"
  }
 },
 "nbformat": 4,
 "nbformat_minor": 5
}
